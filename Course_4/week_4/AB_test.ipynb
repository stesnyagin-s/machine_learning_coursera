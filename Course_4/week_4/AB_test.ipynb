{
 "cells": [
  {
   "cell_type": "code",
   "execution_count": 128,
   "metadata": {},
   "outputs": [],
   "source": [
    "import pandas as pd\n",
    "import numpy as np\n",
    "import matplotlib.pyplot as plt\n",
    "from scipy import stats\n",
    "from statsmodels.sandbox.stats.multicomp import multipletests "
   ]
  },
  {
   "cell_type": "code",
   "execution_count": 2,
   "metadata": {},
   "outputs": [
    {
     "data": {
      "text/html": [
       "<div>\n",
       "<style scoped>\n",
       "    .dataframe tbody tr th:only-of-type {\n",
       "        vertical-align: middle;\n",
       "    }\n",
       "\n",
       "    .dataframe tbody tr th {\n",
       "        vertical-align: top;\n",
       "    }\n",
       "\n",
       "    .dataframe thead th {\n",
       "        text-align: right;\n",
       "    }\n",
       "</style>\n",
       "<table border=\"1\" class=\"dataframe\">\n",
       "  <thead>\n",
       "    <tr style=\"text-align: right;\">\n",
       "      <th></th>\n",
       "      <th>userID</th>\n",
       "      <th>browser</th>\n",
       "      <th>slot</th>\n",
       "      <th>n_clicks</th>\n",
       "      <th>n_queries</th>\n",
       "      <th>n_nonclk_queries</th>\n",
       "    </tr>\n",
       "  </thead>\n",
       "  <tbody>\n",
       "    <tr>\n",
       "      <th>0</th>\n",
       "      <td>1</td>\n",
       "      <td>Browser #2</td>\n",
       "      <td>exp</td>\n",
       "      <td>23</td>\n",
       "      <td>32</td>\n",
       "      <td>19</td>\n",
       "    </tr>\n",
       "    <tr>\n",
       "      <th>1</th>\n",
       "      <td>3</td>\n",
       "      <td>Browser #4</td>\n",
       "      <td>exp</td>\n",
       "      <td>3</td>\n",
       "      <td>4</td>\n",
       "      <td>2</td>\n",
       "    </tr>\n",
       "    <tr>\n",
       "      <th>2</th>\n",
       "      <td>5</td>\n",
       "      <td>Browser #4</td>\n",
       "      <td>exp</td>\n",
       "      <td>29</td>\n",
       "      <td>35</td>\n",
       "      <td>16</td>\n",
       "    </tr>\n",
       "    <tr>\n",
       "      <th>3</th>\n",
       "      <td>6</td>\n",
       "      <td>Browser #4</td>\n",
       "      <td>control</td>\n",
       "      <td>12</td>\n",
       "      <td>6</td>\n",
       "      <td>0</td>\n",
       "    </tr>\n",
       "    <tr>\n",
       "      <th>4</th>\n",
       "      <td>7</td>\n",
       "      <td>Browser #4</td>\n",
       "      <td>exp</td>\n",
       "      <td>54</td>\n",
       "      <td>68</td>\n",
       "      <td>30</td>\n",
       "    </tr>\n",
       "  </tbody>\n",
       "</table>\n",
       "</div>"
      ],
      "text/plain": [
       "   userID     browser     slot  n_clicks  n_queries  n_nonclk_queries\n",
       "0       1  Browser #2      exp        23         32                19\n",
       "1       3  Browser #4      exp         3          4                 2\n",
       "2       5  Browser #4      exp        29         35                16\n",
       "3       6  Browser #4  control        12          6                 0\n",
       "4       7  Browser #4      exp        54         68                30"
      ]
     },
     "execution_count": 2,
     "metadata": {},
     "output_type": "execute_result"
    }
   ],
   "source": [
    "df = pd.read_csv(\"ab_browser_test.csv\")\n",
    "df.head()"
   ]
  },
  {
   "cell_type": "code",
   "execution_count": 3,
   "metadata": {},
   "outputs": [
    {
     "data": {
      "text/plain": [
       "(566134, 6)"
      ]
     },
     "execution_count": 3,
     "metadata": {},
     "output_type": "execute_result"
    }
   ],
   "source": [
    "df.shape"
   ]
  },
  {
   "cell_type": "markdown",
   "metadata": {},
   "source": [
    "# №1"
   ]
  },
  {
   "cell_type": "code",
   "execution_count": 195,
   "metadata": {},
   "outputs": [
    {
     "data": {
      "text/plain": [
       "1.6135689824415822"
      ]
     },
     "execution_count": 195,
     "metadata": {},
     "output_type": "execute_result"
    }
   ],
   "source": [
    "(np.sum(df[df[\"slot\"] == \"exp\"][\"n_clicks\"])/np.sum(df[df[\"slot\"] == \"control\"][\"n_clicks\"]) - 1)*100"
   ]
  },
  {
   "cell_type": "markdown",
   "metadata": {},
   "source": [
    "# №2"
   ]
  },
  {
   "cell_type": "markdown",
   "metadata": {},
   "source": [
    "Давайте попробуем посмотреть более внимательно на разницу между двумя группами (control и exp) относительно количества пользовательских кликов.\n",
    "\n",
    "Для этого постройте с помощью бутстрепа 95% доверительный интервал для средних значений и медиан количества кликов в каждой из двух групп. Отметьте все верные утверждения."
   ]
  },
  {
   "cell_type": "code",
   "execution_count": 3,
   "metadata": {},
   "outputs": [],
   "source": [
    "def get_bootstrap_samples(data, n_samples):\n",
    "    indices = np.random.randint(0, len(data), (n_samples, len(data)))\n",
    "    samples = data[indices]\n",
    "    return samples"
   ]
  },
  {
   "cell_type": "code",
   "execution_count": 4,
   "metadata": {},
   "outputs": [],
   "source": [
    "def stat_intervals(stat, alpha):\n",
    "    boundaries = np.percentile(stat, [100 * alpha / 2., 100 * (1 - alpha / 2.)])\n",
    "    return boundaries"
   ]
  },
  {
   "cell_type": "code",
   "execution_count": 5,
   "metadata": {},
   "outputs": [],
   "source": [
    "control_n_clicks = df[df[\"slot\"] == \"control\"][\"n_clicks\"].values\n",
    "exp_n_clicks = df[df[\"slot\"] == \"exp\"][\"n_clicks\"].values"
   ]
  },
  {
   "cell_type": "code",
   "execution_count": 8,
   "metadata": {},
   "outputs": [
    {
     "name": "stdout",
     "output_type": "stream",
     "text": [
      "95% confidence interval for the difference between medians [-1. -1.]\n"
     ]
    }
   ],
   "source": [
    "control_n_clicks_median  = list(map(np.median, get_bootstrap_samples(control_n_clicks, 600)))\n",
    "exp_n_clicks_median  = list(map(np.median, get_bootstrap_samples(exp_n_clicks, 600)))\n",
    "delta_median = list(map(lambda x: x[0] - x[1], zip(control_n_clicks_median, exp_n_clicks_median)))\n",
    "print(\"95% confidence interval for the difference between medians\",  stat_intervals(delta_median, 0.05))"
   ]
  },
  {
   "cell_type": "code",
   "execution_count": 9,
   "metadata": {},
   "outputs": [
    {
     "name": "stdout",
     "output_type": "stream",
     "text": [
      "95% confidence interval for the difference between medians [-0.41155759 -0.1948506 ]\n"
     ]
    }
   ],
   "source": [
    "control_n_clicks_mean  = list(map(np.mean, get_bootstrap_samples(control_n_clicks, 600)))\n",
    "exp_n_clicks_mean  = list(map(np.mean, get_bootstrap_samples(exp_n_clicks, 600)))\n",
    "delta_mean = list(map(lambda x: x[0] - x[1], zip(control_n_clicks_mean, exp_n_clicks_mean)))\n",
    "print(\"95% confidence interval for the difference between medians\",  stat_intervals(delta_mean, 0.05))"
   ]
  },
  {
   "cell_type": "markdown",
   "metadata": {},
   "source": [
    "# №3"
   ]
  },
  {
   "cell_type": "markdown",
   "metadata": {},
   "source": [
    "Поскольку данных достаточно много (порядка полумиллиона уникальных пользователей), отличие в несколько процентов может быть не только практически значимым, но и значимым статистически. Последнее утверждение нуждается в дополнительной проверке.\n",
    "\n",
    "Посмотрите на выданные вам данные и выберите все верные варианты ответа относительно проверки гипотезы о равенстве среднего количества кликов в группах."
   ]
  },
  {
   "cell_type": "code",
   "execution_count": 10,
   "metadata": {},
   "outputs": [
    {
     "data": {
      "text/plain": [
       "<matplotlib.legend.Legend at 0x1e842f8af60>"
      ]
     },
     "execution_count": 10,
     "metadata": {},
     "output_type": "execute_result"
    },
    {
     "data": {
      "image/png": "[encoded data removed]",
      "text/plain": [
       "<Figure size 432x288 with 1 Axes>"
      ]
     },
     "metadata": {
      "needs_background": "light"
     },
     "output_type": "display_data"
    }
   ],
   "source": [
    "plt.hist(np.log(df.loc[df[\"slot\"] == \"control\", \"n_clicks\"] + 1), alpha=0.5, label = \"slot = control\", bins = 30)\n",
    "plt.legend(loc='upper right')"
   ]
  },
  {
   "cell_type": "code",
   "execution_count": 11,
   "metadata": {},
   "outputs": [
    {
     "data": {
      "text/plain": [
       "<matplotlib.legend.Legend at 0x1e843126a90>"
      ]
     },
     "execution_count": 11,
     "metadata": {},
     "output_type": "execute_result"
    },
    {
     "data": {
      "image/png": "[encoded data removed]",
      "text/plain": [
       "<Figure size 432x288 with 1 Axes>"
      ]
     },
     "metadata": {
      "needs_background": "light"
     },
     "output_type": "display_data"
    }
   ],
   "source": [
    "plt.hist(df.loc[df[\"slot\"] == \"control\", \"n_clicks\"], alpha=0.5, label = \"slot = control\", bins = 30)\n",
    "plt.legend(loc='upper right')"
   ]
  },
  {
   "cell_type": "code",
   "execution_count": 12,
   "metadata": {},
   "outputs": [
    {
     "data": {
      "text/plain": [
       "<matplotlib.legend.Legend at 0x1e84309ccf8>"
      ]
     },
     "execution_count": 12,
     "metadata": {},
     "output_type": "execute_result"
    },
    {
     "data": {
      "image/png": "[encoded data removed]",
      "text/plain": [
       "<Figure size 432x288 with 1 Axes>"
      ]
     },
     "metadata": {
      "needs_background": "light"
     },
     "output_type": "display_data"
    }
   ],
   "source": [
    "plt.hist(np.log(df.loc[df[\"slot\"] == \"exp\", \"n_clicks\"] + 1), alpha=0.5, label = \"slot = exp\", bins = 30)\n",
    "plt.legend(loc='upper right')"
   ]
  },
  {
   "cell_type": "code",
   "execution_count": 13,
   "metadata": {},
   "outputs": [
    {
     "data": {
      "text/plain": [
       "<matplotlib.legend.Legend at 0x1e8432b0a20>"
      ]
     },
     "execution_count": 13,
     "metadata": {},
     "output_type": "execute_result"
    },
    {
     "data": {
      "image/png": "[encoded data removed]",
      "text/plain": [
       "<Figure size 432x288 with 1 Axes>"
      ]
     },
     "metadata": {
      "needs_background": "light"
     },
     "output_type": "display_data"
    }
   ],
   "source": [
    "plt.hist(df.loc[df[\"slot\"] == \"exp\", \"n_clicks\"], alpha=0.5, label = \"slot = exp\", bins = 30)\n",
    "plt.legend(loc='upper right')"
   ]
  },
  {
   "cell_type": "markdown",
   "metadata": {},
   "source": [
    "# 4\n",
    "1. Получите из данных n_boot_samples псевдовыборок.\n",
    "2. По каждой из этих выборок посчитайте среднее и сумму квадратов отклонения от выборочного среднего (control_boot_chi_squared)\\\n",
    "3. Для получившегося вектора средних значений из n_boot_samples постройте q-q plot с помощью scipy.stats.probplot для нормального распределения\\\n",
    "4. Для получившегося вектора сумм квадратов отклонения от выборочного среднего постройте qq-plot с помощью scipy.stats.probplot для хи-квадрат распределения с помощью команды"
   ]
  },
  {
   "cell_type": "code",
   "execution_count": 6,
   "metadata": {},
   "outputs": [
    {
     "data": {
      "text/plain": [
       "((array([-2.99209858e+00, -2.71015927e+00, -2.55162541e+00, -2.43921385e+00,\n",
       "         -2.35113311e+00, -2.27822091e+00, -2.21572267e+00, -2.16084152e+00,\n",
       "         -2.11178767e+00, -2.06734403e+00, -2.02664403e+00, -1.98904794e+00,\n",
       "         -1.95406954e+00, -1.92133033e+00, -1.89052965e+00, -1.86142459e+00,\n",
       "         -1.83381593e+00, -1.80753820e+00, -1.78245240e+00, -1.75844061e+00,\n",
       "         -1.73540186e+00, -1.71324904e+00, -1.69190643e+00, -1.67130780e+00,\n",
       "         -1.65139483e+00, -1.63211595e+00, -1.61342528e+00, -1.59528183e+00,\n",
       "         -1.57764883e+00, -1.56049314e+00, -1.54378481e+00, -1.52749667e+00,\n",
       "         -1.51160399e+00, -1.49608418e+00, -1.48091659e+00, -1.46608224e+00,\n",
       "         -1.45156367e+00, -1.43734479e+00, -1.42341071e+00, -1.40974764e+00,\n",
       "         -1.39634279e+00, -1.38318426e+00, -1.37026095e+00, -1.35756253e+00,\n",
       "         -1.34507932e+00, -1.33280226e+00, -1.32072287e+00, -1.30883317e+00,\n",
       "         -1.29712567e+00, -1.28559331e+00, -1.27422944e+00, -1.26302778e+00,\n",
       "         -1.25198239e+00, -1.24108768e+00, -1.23033831e+00, -1.21972926e+00,\n",
       "         -1.20925574e+00, -1.19891322e+00, -1.18869738e+00, -1.17860411e+00,\n",
       "         -1.16862950e+00, -1.15876983e+00, -1.14902154e+00, -1.13938123e+00,\n",
       "         -1.12984566e+00, -1.12041173e+00, -1.11107648e+00, -1.10183707e+00,\n",
       "         -1.09269077e+00, -1.08363498e+00, -1.07466719e+00, -1.06578501e+00,\n",
       "         -1.05698612e+00, -1.04826831e+00, -1.03962946e+00, -1.03106750e+00,\n",
       "         -1.02258046e+00, -1.01416645e+00, -1.00582364e+00, -9.97550247e-01,\n",
       "         -9.89344581e-01, -9.81204996e-01, -9.73129904e-01, -9.65117774e-01,\n",
       "         -9.57167125e-01, -9.49276525e-01, -9.41444591e-01, -9.33669982e-01,\n",
       "         -9.25951403e-01, -9.18287599e-01, -9.10677353e-01, -9.03119487e-01,\n",
       "         -8.95612861e-01, -8.88156365e-01, -8.80748927e-01, -8.73389502e-01,\n",
       "         -8.66077081e-01, -8.58810678e-01, -8.51589342e-01, -8.44412143e-01,\n",
       "         -8.37278180e-01, -8.30186576e-01, -8.23136480e-01, -8.16127061e-01,\n",
       "         -8.09157513e-01, -8.02227049e-01, -7.95334905e-01, -7.88480336e-01,\n",
       "         -7.81662614e-01, -7.74881033e-01, -7.68134903e-01, -7.61423551e-01,\n",
       "         -7.54746322e-01, -7.48102575e-01, -7.41491685e-01, -7.34913044e-01,\n",
       "         -7.28366057e-01, -7.21850142e-01, -7.15364731e-01, -7.08909270e-01,\n",
       "         -7.02483218e-01, -6.96086043e-01, -6.89717230e-01, -6.83376271e-01,\n",
       "         -6.77062670e-01, -6.70775943e-01, -6.64515617e-01, -6.58281226e-01,\n",
       "         -6.52072317e-01, -6.45888445e-01, -6.39729174e-01, -6.33594076e-01,\n",
       "         -6.27482735e-01, -6.21394740e-01, -6.15329690e-01, -6.09287191e-01,\n",
       "         -6.03266856e-01, -5.97268307e-01, -5.91291174e-01, -5.85335090e-01,\n",
       "         -5.79399700e-01, -5.73484651e-01, -5.67589599e-01, -5.61714207e-01,\n",
       "         -5.55858142e-01, -5.50021077e-01, -5.44202692e-01, -5.38402673e-01,\n",
       "         -5.32620709e-01, -5.26856497e-01, -5.21109737e-01, -5.15380136e-01,\n",
       "         -5.09667405e-01, -5.03971258e-01, -4.98291417e-01, -4.92627606e-01,\n",
       "         -4.86979553e-01, -4.81346993e-01, -4.75729663e-01, -4.70127305e-01,\n",
       "         -4.64539663e-01, -4.58966488e-01, -4.53407532e-01, -4.47862553e-01,\n",
       "         -4.42331309e-01, -4.36813566e-01, -4.31309089e-01, -4.25817651e-01,\n",
       "         -4.20339023e-01, -4.14872983e-01, -4.09419311e-01, -4.03977788e-01,\n",
       "         -3.98548202e-01, -3.93130339e-01, -3.87723992e-01, -3.82328953e-01,\n",
       "         -3.76945020e-01, -3.71571992e-01, -3.66209669e-01, -3.60857856e-01,\n",
       "         -3.55516359e-01, -3.50184986e-01, -3.44863547e-01, -3.39551857e-01,\n",
       "         -3.34249730e-01, -3.28956983e-01, -3.23673435e-01, -3.18398908e-01,\n",
       "         -3.13133223e-01, -3.07876207e-01, -3.02627686e-01, -2.97387487e-01,\n",
       "         -2.92155443e-01, -2.86931384e-01, -2.81715143e-01, -2.76506557e-01,\n",
       "         -2.71305462e-01, -2.66111695e-01, -2.60925097e-01, -2.55745509e-01,\n",
       "         -2.50572773e-01, -2.45406732e-01, -2.40247233e-01, -2.35094122e-01,\n",
       "         -2.29947246e-01, -2.24806454e-01, -2.19671596e-01, -2.14542524e-01,\n",
       "         -2.09419090e-01, -2.04301147e-01, -1.99188550e-01, -1.94081154e-01,\n",
       "         -1.88978816e-01, -1.83881393e-01, -1.78788743e-01, -1.73700727e-01,\n",
       "         -1.68617203e-01, -1.63538032e-01, -1.58463078e-01, -1.53392201e-01,\n",
       "         -1.48325265e-01, -1.43262135e-01, -1.38202675e-01, -1.33146749e-01,\n",
       "         -1.28094226e-01, -1.23044970e-01, -1.17998849e-01, -1.12955731e-01,\n",
       "         -1.07915484e-01, -1.02877978e-01, -9.78430801e-02, -9.28106619e-02,\n",
       "         -8.77805930e-02, -8.27527442e-02, -7.77269864e-02, -7.27031911e-02,\n",
       "         -6.76812301e-02, -6.26609755e-02, -5.76422995e-02, -5.26250751e-02,\n",
       "         -4.76091750e-02, -4.25944724e-02, -3.75808407e-02, -3.25681535e-02,\n",
       "         -2.75562846e-02, -2.25451077e-02, -1.75344969e-02, -1.25243263e-02,\n",
       "         -7.51447003e-03, -2.50480239e-03,  2.50480239e-03,  7.51447003e-03,\n",
       "          1.25243263e-02,  1.75344969e-02,  2.25451077e-02,  2.75562846e-02,\n",
       "          3.25681535e-02,  3.75808407e-02,  4.25944724e-02,  4.76091750e-02,\n",
       "          5.26250751e-02,  5.76422995e-02,  6.26609755e-02,  6.76812301e-02,\n",
       "          7.27031911e-02,  7.77269864e-02,  8.27527442e-02,  8.77805930e-02,\n",
       "          9.28106619e-02,  9.78430801e-02,  1.02877978e-01,  1.07915484e-01,\n",
       "          1.12955731e-01,  1.17998849e-01,  1.23044970e-01,  1.28094226e-01,\n",
       "          1.33146749e-01,  1.38202675e-01,  1.43262135e-01,  1.48325265e-01,\n",
       "          1.53392201e-01,  1.58463078e-01,  1.63538032e-01,  1.68617203e-01,\n",
       "          1.73700727e-01,  1.78788743e-01,  1.83881393e-01,  1.88978816e-01,\n",
       "          1.94081154e-01,  1.99188550e-01,  2.04301147e-01,  2.09419090e-01,\n",
       "          2.14542524e-01,  2.19671596e-01,  2.24806454e-01,  2.29947246e-01,\n",
       "          2.35094122e-01,  2.40247233e-01,  2.45406732e-01,  2.50572773e-01,\n",
       "          2.55745509e-01,  2.60925097e-01,  2.66111695e-01,  2.71305462e-01,\n",
       "          2.76506557e-01,  2.81715143e-01,  2.86931384e-01,  2.92155443e-01,\n",
       "          2.97387487e-01,  3.02627686e-01,  3.07876207e-01,  3.13133223e-01,\n",
       "          3.18398908e-01,  3.23673435e-01,  3.28956983e-01,  3.34249730e-01,\n",
       "          3.39551857e-01,  3.44863547e-01,  3.50184986e-01,  3.55516359e-01,\n",
       "          3.60857856e-01,  3.66209669e-01,  3.71571992e-01,  3.76945020e-01,\n",
       "          3.82328953e-01,  3.87723992e-01,  3.93130339e-01,  3.98548202e-01,\n",
       "          4.03977788e-01,  4.09419311e-01,  4.14872983e-01,  4.20339023e-01,\n",
       "          4.25817651e-01,  4.31309089e-01,  4.36813566e-01,  4.42331309e-01,\n",
       "          4.47862553e-01,  4.53407532e-01,  4.58966488e-01,  4.64539663e-01,\n",
       "          4.70127305e-01,  4.75729663e-01,  4.81346993e-01,  4.86979553e-01,\n",
       "          4.92627606e-01,  4.98291417e-01,  5.03971258e-01,  5.09667405e-01,\n",
       "          5.15380136e-01,  5.21109737e-01,  5.26856497e-01,  5.32620709e-01,\n",
       "          5.38402673e-01,  5.44202692e-01,  5.50021077e-01,  5.55858142e-01,\n",
       "          5.61714207e-01,  5.67589599e-01,  5.73484651e-01,  5.79399700e-01,\n",
       "          5.85335090e-01,  5.91291174e-01,  5.97268307e-01,  6.03266856e-01,\n",
       "          6.09287191e-01,  6.15329690e-01,  6.21394740e-01,  6.27482735e-01,\n",
       "          6.33594076e-01,  6.39729174e-01,  6.45888445e-01,  6.52072317e-01,\n",
       "          6.58281226e-01,  6.64515617e-01,  6.70775943e-01,  6.77062670e-01,\n",
       "          6.83376271e-01,  6.89717230e-01,  6.96086043e-01,  7.02483218e-01,\n",
       "          7.08909270e-01,  7.15364731e-01,  7.21850142e-01,  7.28366057e-01,\n",
       "          7.34913044e-01,  7.41491685e-01,  7.48102575e-01,  7.54746322e-01,\n",
       "          7.61423551e-01,  7.68134903e-01,  7.74881033e-01,  7.81662614e-01,\n",
       "          7.88480336e-01,  7.95334905e-01,  8.02227049e-01,  8.09157513e-01,\n",
       "          8.16127061e-01,  8.23136480e-01,  8.30186576e-01,  8.37278180e-01,\n",
       "          8.44412143e-01,  8.51589342e-01,  8.58810678e-01,  8.66077081e-01,\n",
       "          8.73389502e-01,  8.80748927e-01,  8.88156365e-01,  8.95612861e-01,\n",
       "          9.03119487e-01,  9.10677353e-01,  9.18287599e-01,  9.25951403e-01,\n",
       "          9.33669982e-01,  9.41444591e-01,  9.49276525e-01,  9.57167125e-01,\n",
       "          9.65117774e-01,  9.73129904e-01,  9.81204996e-01,  9.89344581e-01,\n",
       "          9.97550247e-01,  1.00582364e+00,  1.01416645e+00,  1.02258046e+00,\n",
       "          1.03106750e+00,  1.03962946e+00,  1.04826831e+00,  1.05698612e+00,\n",
       "          1.06578501e+00,  1.07466719e+00,  1.08363498e+00,  1.09269077e+00,\n",
       "          1.10183707e+00,  1.11107648e+00,  1.12041173e+00,  1.12984566e+00,\n",
       "          1.13938123e+00,  1.14902154e+00,  1.15876983e+00,  1.16862950e+00,\n",
       "          1.17860411e+00,  1.18869738e+00,  1.19891322e+00,  1.20925574e+00,\n",
       "          1.21972926e+00,  1.23033831e+00,  1.24108768e+00,  1.25198239e+00,\n",
       "          1.26302778e+00,  1.27422944e+00,  1.28559331e+00,  1.29712567e+00,\n",
       "          1.30883317e+00,  1.32072287e+00,  1.33280226e+00,  1.34507932e+00,\n",
       "          1.35756253e+00,  1.37026095e+00,  1.38318426e+00,  1.39634279e+00,\n",
       "          1.40974764e+00,  1.42341071e+00,  1.43734479e+00,  1.45156367e+00,\n",
       "          1.46608224e+00,  1.48091659e+00,  1.49608418e+00,  1.51160399e+00,\n",
       "          1.52749667e+00,  1.54378481e+00,  1.56049314e+00,  1.57764883e+00,\n",
       "          1.59528183e+00,  1.61342528e+00,  1.63211595e+00,  1.65139483e+00,\n",
       "          1.67130780e+00,  1.69190643e+00,  1.71324904e+00,  1.73540186e+00,\n",
       "          1.75844061e+00,  1.78245240e+00,  1.80753820e+00,  1.83381593e+00,\n",
       "          1.86142459e+00,  1.89052965e+00,  1.92133033e+00,  1.95406954e+00,\n",
       "          1.98904794e+00,  2.02664403e+00,  2.06734403e+00,  2.11178767e+00,\n",
       "          2.16084152e+00,  2.21572267e+00,  2.27822091e+00,  2.35113311e+00,\n",
       "          2.43921385e+00,  2.55162541e+00,  2.71015927e+00,  2.99209858e+00]),\n",
       "  array([11.1824434 , 11.18473822, 11.18830521, 11.19382261, 11.20258369,\n",
       "         11.20325492, 11.20355363, 11.20505423, 11.20609094, 11.20625611,\n",
       "         11.2079043 , 11.21138343, 11.21287699, 11.21341468, 11.2142827 ,\n",
       "         11.21573761, 11.21579735, 11.21644749, 11.21674621, 11.21906563,\n",
       "         11.21948031, 11.21979308, 11.22034833, 11.22213007, 11.22245338,\n",
       "         11.22327924, 11.22662131, 11.22713439, 11.22731011, 11.22771776,\n",
       "         11.22815002, 11.22822382, 11.2283187 , 11.22885287, 11.22957681,\n",
       "         11.22997744, 11.23038158, 11.23081032, 11.23154129, 11.23157292,\n",
       "         11.23189623, 11.23309108, 11.23465845, 11.23483065, 11.23608524,\n",
       "         11.23640153, 11.23664401, 11.23698138, 11.23704112, 11.23742769,\n",
       "         11.23755772, 11.23802863, 11.23852766, 11.23865417, 11.23902669,\n",
       "         11.23916726, 11.23991228, 11.23992283, 11.24141639, 11.24158508,\n",
       "         11.24160968, 11.24163779, 11.24169753, 11.24231605, 11.24278344,\n",
       "         11.24281859, 11.24329653, 11.24353901, 11.24396424, 11.24425592,\n",
       "         11.24438244, 11.24446327, 11.24460384, 11.24470224, 11.24473035,\n",
       "         11.24482172, 11.24492715, 11.24534183, 11.24545078, 11.24585492,\n",
       "         11.24586195, 11.24649803, 11.24708843, 11.2472782 , 11.24735551,\n",
       "         11.24748202, 11.2476472 , 11.24791779, 11.24809351, 11.24811811,\n",
       "         11.24844845, 11.24918996, 11.2492497 , 11.2493727 , 11.25008259,\n",
       "         11.25017747, 11.25060621, 11.25065541, 11.25088735, 11.2511193 ,\n",
       "         11.25147775, 11.25171321, 11.25188541, 11.25189244, 11.25201895,\n",
       "         11.25222981, 11.25248986, 11.25299943, 11.25305566, 11.25328409,\n",
       "         11.25384637, 11.25398343, 11.2544684 , 11.25458085, 11.25487605,\n",
       "         11.25488659, 11.25505528, 11.25508691, 11.25525559, 11.25577219,\n",
       "         11.25590925, 11.25621147, 11.2565875 , 11.25684404, 11.25686513,\n",
       "         11.25702679, 11.25707247, 11.2574977 , 11.2575223 , 11.25800024,\n",
       "         11.25810215, 11.25842898, 11.25844304, 11.25859415, 11.25865741,\n",
       "         11.25881555, 11.25891746, 11.25895964, 11.25947623, 11.25970466,\n",
       "         11.25977846, 11.25985577, 11.26035129, 11.2605024 , 11.26053403,\n",
       "         11.26064649, 11.26068163, 11.26083977, 11.26097331, 11.2612896 ,\n",
       "         11.2613634 , 11.26144071, 11.26180619, 11.26218222, 11.26227359,\n",
       "         11.26281479, 11.26318028, 11.26321893, 11.26322947, 11.26338762,\n",
       "         11.26359496, 11.26368633, 11.2644419 , 11.26454381, 11.26457544,\n",
       "         11.2647617 , 11.26483901, 11.26504284, 11.26541184, 11.26546455,\n",
       "         11.26611821, 11.26614281, 11.26634312, 11.26644152, 11.26677186,\n",
       "         11.26709869, 11.26725683, 11.26732009, 11.26743254, 11.26772071,\n",
       "         11.267791  , 11.26825137, 11.26838843, 11.26864848, 11.26938648,\n",
       "         11.26955165, 11.26982225, 11.26989956, 11.27000499, 11.27000499,\n",
       "         11.2701069 , 11.27039156, 11.27042319, 11.27065162, 11.27087302,\n",
       "         11.27089762, 11.2709679 , 11.27140016, 11.27146341, 11.27182538,\n",
       "         11.2718535 , 11.27223655, 11.27256338, 11.27274261, 11.27291481,\n",
       "         11.27308701, 11.27322758, 11.27336815, 11.27396909, 11.2742924 ,\n",
       "         11.27455597, 11.27467546, 11.27471411, 11.27503743, 11.27530451,\n",
       "         11.27552942, 11.27571217, 11.27575082, 11.27606359, 11.27607765,\n",
       "         11.27635879, 11.27653802, 11.27671373, 11.27682971, 11.27694568,\n",
       "         11.2769527 , 11.2769773 , 11.27720573, 11.27725142, 11.27727602,\n",
       "         11.27733927, 11.27770827, 11.2779121 , 11.2780597 , 11.27836544,\n",
       "         11.27838301, 11.27846033, 11.27860793, 11.27994686, 11.28058646,\n",
       "         11.28083246, 11.28117334, 11.2812612 , 11.28151072, 11.28184106,\n",
       "         11.28203434, 11.28229088, 11.28238577, 11.28250877, 11.28252634,\n",
       "         11.28253688, 11.28272314, 11.28278991, 11.28314134, 11.28398828,\n",
       "         11.28416399, 11.28446973, 11.28469816, 11.28474033, 11.28484927,\n",
       "         11.2850285 , 11.28556267, 11.28580515, 11.28592464, 11.2860125 ,\n",
       "         11.28606521, 11.28624444, 11.28626904, 11.2863077 , 11.28664507,\n",
       "         11.28678915, 11.28686295, 11.28696838, 11.28699298, 11.28710895,\n",
       "         11.28711949, 11.28720735, 11.28752363, 11.28766772, 11.28801563,\n",
       "         11.28801915, 11.28806483, 11.28822649, 11.2882546 , 11.28858143,\n",
       "         11.28905937, 11.28936863, 11.28947405, 11.28947405, 11.2894846 ,\n",
       "         11.29010311, 11.29016637, 11.29018042, 11.29076379, 11.29080245,\n",
       "         11.29098871, 11.29106602, 11.2914315 , 11.29150179, 11.29210976,\n",
       "         11.29266853, 11.29273178, 11.29294967, 11.2932765 , 11.29331515,\n",
       "         11.29344518, 11.29394069, 11.29416209, 11.29428158, 11.29433781,\n",
       "         11.29509689, 11.29521989, 11.29547994, 11.29560294, 11.29560294,\n",
       "         11.29567323, 11.29593329, 11.29605277, 11.29621091, 11.29674157,\n",
       "         11.29675211, 11.29711759, 11.29722302, 11.29742685, 11.29763068,\n",
       "         11.29792939, 11.29811565, 11.2981543 , 11.29825973, 11.29829136,\n",
       "         11.29831596, 11.29833353, 11.29864279, 11.2987939 , 11.29890284,\n",
       "         11.29922616, 11.29926833, 11.29961273, 11.29963381, 11.29964787,\n",
       "         11.29983413, 11.29996415, 11.30047021, 11.30052292, 11.30085678,\n",
       "         11.30089544, 11.30102546, 11.30107466, 11.30115198, 11.30138743,\n",
       "         11.30154558, 11.30205866, 11.30206217, 11.30224492, 11.30304968,\n",
       "         11.30406531, 11.30407234, 11.30417074, 11.30423399, 11.30444134,\n",
       "         11.30509851, 11.30533396, 11.30537613, 11.3056151 , 11.30621253,\n",
       "         11.30638121, 11.3064023 , 11.3066237 , 11.3067467 , 11.30696458,\n",
       "         11.30697513, 11.30702433, 11.30723167, 11.30758309, 11.30762527,\n",
       "         11.30769907, 11.30774827, 11.30777638, 11.30783261, 11.30794155,\n",
       "         11.30805401, 11.30807158, 11.30812781, 11.30849329, 11.30862683,\n",
       "         11.30909775, 11.30965652, 11.30980763, 11.30995171, 11.31005011,\n",
       "         11.31013094, 11.31022583, 11.31023988, 11.31073891, 11.31076702,\n",
       "         11.31091814, 11.31153665, 11.31211651, 11.3121903 , 11.31226762,\n",
       "         11.31240116, 11.3129529 , 11.3130759 , 11.31313213, 11.31313213,\n",
       "         11.31350113, 11.31362061, 11.31378578, 11.31448864, 11.3145765 ,\n",
       "         11.31662532, 11.31675183, 11.3168432 , 11.3173352 , 11.31745117,\n",
       "         11.3177042 , 11.31774285, 11.31789045, 11.31813997, 11.31905368,\n",
       "         11.31961947, 11.31993224, 11.32042424, 11.32091624, 11.3211517 ,\n",
       "         11.32129227, 11.3215207 , 11.32158395, 11.32161558, 11.32216029,\n",
       "         11.32217786, 11.32259958, 11.323443  , 11.32429697, 11.32484168,\n",
       "         11.32580811, 11.32588893, 11.32591002, 11.32596625, 11.32616305,\n",
       "         11.32656719, 11.32761444, 11.32796236, 11.32822593, 11.32949809,\n",
       "         11.3303134 , 11.33039775, 11.33050669, 11.33194402, 11.33224977,\n",
       "         11.33308616, 11.33376442, 11.33431967, 11.33487844, 11.33491358,\n",
       "         11.33536341, 11.33593272, 11.33637552, 11.33695186, 11.33701863,\n",
       "         11.33731383, 11.337971  , 11.33971408, 11.34042045, 11.34072267,\n",
       "         11.34170316, 11.34221624, 11.34325646, 11.34401203, 11.344128  ,\n",
       "         11.3461698 , 11.34617682, 11.34640174, 11.34911476, 11.3497649 ,\n",
       "         11.34978598, 11.35071023, 11.3522776 , 11.35456188, 11.35491682,\n",
       "         11.35499413, 11.35563021, 11.35623818, 11.35998088, 11.36001603,\n",
       "         11.36725542, 11.36806371, 11.36816211, 11.3690477 , 11.37050261,\n",
       "         11.37085404, 11.37088215, 11.37353191, 11.37428748, 11.37443508,\n",
       "         11.37471271, 11.3776155 , 11.37896849, 11.38956402, 11.39341215])),\n",
       " (0.03777466718563097, 11.283244614378994, 0.9979748364604202))"
      ]
     },
     "execution_count": 6,
     "metadata": {},
     "output_type": "execute_result"
    },
    {
     "data": {
      "image/png": "[encoded data removed]",
      "text/plain": [
       "<Figure size 432x288 with 1 Axes>"
      ]
     },
     "metadata": {
      "needs_background": "light"
     },
     "output_type": "display_data"
    }
   ],
   "source": [
    "np.random.seed(0)\n",
    "n_boot_samples = 500\n",
    "control_boot_n_clicks  = get_bootstrap_samples(control_n_clicks, n_boot_samples)\n",
    "control_boot_n_clicks_mean  = list(map(np.mean, control_boot_n_clicks))\n",
    "control_boot_n_clicks_sq  = list(map(lambda s: np.sum(s - np.mean(s)), control_boot_n_clicks))\n",
    "stats.probplot(control_boot_n_clicks_mean, plot=plt)"
   ]
  },
  {
   "cell_type": "code",
   "execution_count": 11,
   "metadata": {},
   "outputs": [
    {
     "data": {
      "text/plain": [
       "0.9959537742082024"
      ]
     },
     "execution_count": 11,
     "metadata": {},
     "output_type": "execute_result"
    }
   ],
   "source": [
    "0.9979748364604202**2"
   ]
  },
  {
   "cell_type": "code",
   "execution_count": 10,
   "metadata": {},
   "outputs": [
    {
     "data": {
      "text/plain": [
       "((array([282301.08823052, 282512.70968151, 282631.75042717, 282716.17888969,\n",
       "         282782.3450597 , 282837.12445286, 282884.08540284, 282925.32718789,\n",
       "         282962.19330369, 282995.59740261, 283026.19007273, 283054.45161344,\n",
       "         283080.74708391, 283105.36069051, 283128.51819018, 283150.40200679,\n",
       "         283171.16173792, 283190.92164617, 283209.78611976, 283227.84373074,\n",
       "         283245.17030322, 283261.83126848, 283277.88349787, 283293.37674667,\n",
       "         283308.35480452, 283322.85642111, 283336.91605832, 283350.56450624,\n",
       "         283363.82939197, 283376.73560265, 283389.30563983, 283401.55991797,\n",
       "         283413.51701739, 283425.19389989, 283436.60609342, 283447.76785089,\n",
       "         283458.69228763, 283469.39150054, 283479.87667212, 283490.1581613 ,\n",
       "         283500.24558336, 283510.1478802 , 283519.87338258, 283529.42986513,\n",
       "         283538.82459547, 283548.06437779, 283557.15559197, 283566.10422857,\n",
       "         283574.91592026, 283583.59597014, 283592.14937729, 283600.58085989,\n",
       "         283608.89487613, 283617.09564327, 283625.18715487, 283633.17319664,\n",
       "         283641.05736073, 283648.84305896, 283656.53353485, 283664.13187467,\n",
       "         283671.64101759, 283679.06376506, 283686.40278937, 283693.66064164,\n",
       "         283700.83975913, 283707.94247203, 283714.97100975, 283721.92750678,\n",
       "         283728.81400805, 283735.63247398, 283742.38478517, 283749.07274675,\n",
       "         283755.69809245, 283762.26248835, 283768.7675365 , 283775.21477815,\n",
       "         283781.6056969 , 283787.94172159, 283794.22422902, 283800.45454649,\n",
       "         283806.63395424, 283812.76368764, 283818.84493939, 283824.87886143,\n",
       "         283830.86656689, 283836.80913182, 283842.70759689, 283848.56296894,\n",
       "         283854.37622248, 283860.14830114, 283865.88011892, 283871.57256154,\n",
       "         283877.22648757, 283882.84272959, 283888.42209528, 283893.96536839,\n",
       "         283899.47330977, 283904.94665822, 283910.38613142, 283915.79242674,\n",
       "         283921.16622202, 283926.50817633, 283931.81893069, 283937.09910875,\n",
       "         283942.34931743, 283947.57014755, 283952.76217443, 283957.92595842,\n",
       "         283963.06204549, 283968.17096771, 283973.25324374, 283978.30937933,\n",
       "         283983.33986774, 283988.34519019, 283993.32581627, 283998.28220432,\n",
       "         284003.21480183, 284008.1240458 , 284013.01036307, 284017.87417068,\n",
       "         284022.71587615, 284027.53587786, 284032.33456525, 284037.11231919,\n",
       "         284041.8695122 , 284046.60650874, 284051.32366544, 284056.02133135,\n",
       "         284060.6998482 , 284065.35955058, 284070.00076617, 284074.62381599,\n",
       "         284079.22901454, 284083.81667002, 284088.38708453, 284092.94055423,\n",
       "         284097.47736951, 284101.99781517, 284106.5021706 , 284110.9907099 ,\n",
       "         284115.46370202, 284119.92141097, 284124.3640959 , 284128.79201125,\n",
       "         284133.20540691, 284137.6045283 , 284141.98961654, 284146.36090853,\n",
       "         284150.71863708, 284155.06303103, 284159.39431535, 284163.71271124,\n",
       "         284168.01843623, 284172.3117043 , 284176.59272594, 284180.86170828,\n",
       "         284185.11885513, 284189.36436712, 284193.59844176, 284197.8212735 ,\n",
       "         284202.03305385, 284206.23397143, 284210.42421205, 284214.60395878,\n",
       "         284218.77339204, 284222.93268964, 284227.08202685, 284231.22157649,\n",
       "         284235.35150896, 284239.47199235, 284243.58319242, 284247.68527274,\n",
       "         284251.77839469, 284255.86271755, 284259.93839852, 284264.00559282,\n",
       "         284268.06445369, 284272.11513246, 284276.1577786 , 284280.19253978,\n",
       "         284284.21956188, 284288.23898907, 284292.25096383, 284296.25562702,\n",
       "         284300.25311788, 284304.2435741 , 284308.22713187, 284312.20392588,\n",
       "         284316.17408939, 284320.13775425, 284324.09505096, 284328.04610865,\n",
       "         284331.9910552 , 284335.93001719, 284339.86311998, 284343.79048773,\n",
       "         284347.71224344, 284351.62850896, 284355.53940504, 284359.44505137,\n",
       "         284363.34556655, 284367.2410682 , 284371.13167294, 284375.01749643,\n",
       "         284378.89865337, 284382.77525757, 284386.64742196, 284390.51525859,\n",
       "         284394.37887871, 284398.23839273, 284402.09391029, 284405.94554027,\n",
       "         284409.7933908 , 284413.63756931, 284417.47818253, 284421.31533653,\n",
       "         284425.14913672, 284428.9796879 , 284432.80709425, 284436.63145937,\n",
       "         284440.45288631, 284444.27147757, 284448.08733512, 284451.90056045,\n",
       "         284455.71125455, 284459.51951795, 284463.32545074, 284467.1291526 ,\n",
       "         284470.93072277, 284474.73026015, 284478.52786324, 284482.3236302 ,\n",
       "         284486.11765885, 284489.91004673, 284493.70089104, 284497.49028873,\n",
       "         284501.27833648, 284505.06513075, 284508.85076774, 284512.63534346,\n",
       "         284516.41895375, 284520.20169424, 284523.98366043, 284527.76494767,\n",
       "         284531.54565119, 284535.32586611, 284539.10568748, 284542.88521026,\n",
       "         284546.66452935, 284550.44373963, 284554.22293595, 284558.00221316,\n",
       "         284561.78166611, 284565.56138969, 284569.34147882, 284573.1220285 ,\n",
       "         284576.9031338 , 284580.68488988, 284584.46739203, 284588.25073565,\n",
       "         284592.03501629, 284595.82032967, 284599.60677167, 284603.39443841,\n",
       "         284607.18342617, 284610.9738315 , 284614.76575118, 284618.55928228,\n",
       "         284622.35452211, 284626.15156834, 284629.95051891, 284633.75147211,\n",
       "         284637.55452662, 284641.35978145, 284645.16733602, 284648.97729018,\n",
       "         284652.78974418, 284656.60479873, 284660.42255503, 284664.24311475,\n",
       "         284668.06658007, 284671.8930537 , 284675.7226389 , 284679.55543951,\n",
       "         284683.39155994, 284687.23110523, 284691.07418106, 284694.92089374,\n",
       "         284698.77135027, 284702.62565836, 284706.48392642, 284710.34626364,\n",
       "         284714.21277994, 284718.08358607, 284721.95879356, 284725.83851482,\n",
       "         284729.72286311, 284733.61195257, 284737.50589829, 284741.40481628,\n",
       "         284745.30882353, 284749.21803804, 284753.13257882, 284757.05256597,\n",
       "         284760.97812064, 284764.90936512, 284768.84642284, 284772.7894184 ,\n",
       "         284776.73847764, 284780.6937276 , 284784.65529662, 284788.62331436,\n",
       "         284792.5979118 , 284796.57922131, 284800.56737669, 284804.56251316,\n",
       "         284808.56476746, 284812.57427785, 284816.59118415, 284820.61562782,\n",
       "         284824.64775193, 284828.68770128, 284832.73562239, 284836.79166356,\n",
       "         284840.85597493, 284844.92870852, 284849.01001825, 284853.10006005,\n",
       "         284857.19899185, 284861.30697365, 284865.42416762, 284869.55073807,\n",
       "         284873.68685158, 284877.83267703, 284881.98838566, 284886.15415111,\n",
       "         284890.33014954, 284894.51655964, 284898.71356272, 284902.92134278,\n",
       "         284907.14008657, 284911.36998369, 284915.61122661, 284919.86401081,\n",
       "         284924.12853482, 284928.40500033, 284932.69361223, 284936.99457874,\n",
       "         284941.30811149, 284945.63442561, 284949.97373981, 284954.32627649,\n",
       "         284958.69226186, 284963.07192602, 284967.46550308, 284971.87323126,\n",
       "         284976.29535302, 284980.73211517, 284985.18376902, 284989.65057046,\n",
       "         284994.13278012, 284998.63066352, 285003.14449119, 285007.67453881,\n",
       "         285012.2210874 , 285016.78442342, 285021.36483899, 285025.96263201,\n",
       "         285030.57810639, 285035.21157215, 285039.8633457 , 285044.53374998,\n",
       "         285049.22311464, 285053.93177633, 285058.66007884, 285063.40837336,\n",
       "         285068.17701873, 285072.96638164, 285077.77683693, 285082.60876782,\n",
       "         285087.4625662 , 285092.33863293, 285097.2373781 , 285102.15922138,\n",
       "         285107.10459232, 285112.07393068, 285117.06768681, 285122.08632199,\n",
       "         285127.13030882, 285132.20013161, 285137.29628682, 285142.41928347,\n",
       "         285147.5696436 , 285152.74790275, 285157.95461046, 285163.19033076,\n",
       "         285168.45564277, 285173.7511412 , 285179.07743701, 285184.43515798,\n",
       "         285189.82494941, 285195.24747478, 285200.70341648, 285206.19347656,\n",
       "         285211.71837755, 285217.27886325, 285222.87569968, 285228.50967592,\n",
       "         285234.18160516, 285239.89232568, 285245.64270196, 285251.43362579,\n",
       "         285257.26601751, 285263.14082726, 285269.05903632, 285275.02165856,\n",
       "         285281.0297419 , 285287.08436992, 285293.18666357, 285299.33778292,\n",
       "         285305.53892905, 285311.79134611, 285318.0963234 , 285324.45519769,\n",
       "         285330.86935561, 285337.34023621, 285343.86933375, 285350.45820058,\n",
       "         285357.1084503 , 285363.82176106, 285370.59987917, 285377.4446229 ,\n",
       "         285384.35788656, 285391.34164495, 285398.397958  , 285405.5289759 ,\n",
       "         285412.73694453, 285420.02421133, 285427.39323167, 285434.84657566,\n",
       "         285442.38693555, 285450.01713377, 285457.74013158, 285465.55903852,\n",
       "         285473.47712262, 285481.49782155, 285489.62475483, 285497.86173701,\n",
       "         285506.21279224, 285514.68217014, 285523.27436327, 285531.99412626,\n",
       "         285540.84649694, 285549.8368197 , 285558.97077115, 285568.25438879,\n",
       "         285577.69410264, 285587.29677059, 285597.06971775, 285607.02078058,\n",
       "         285617.15835625, 285627.49145825, 285638.02977913, 285648.78376142,\n",
       "         285659.76467818, 285670.98472471, 285682.45712344, 285694.19624422,\n",
       "         285706.21774289, 285718.5387216 , 285731.17791514, 285744.15590844,\n",
       "         285757.49539186, 285771.22146242, 285785.36198137, 285799.94800112,\n",
       "         285815.01427872, 285830.59989764, 285846.74902683, 285863.51185514,\n",
       "         285880.94575255, 285899.11672772, 285918.10127825, 285937.98876845,\n",
       "         285958.88452702, 285980.91394467, 286004.22798802, 286029.01076454,\n",
       "         286055.49013345, 286083.95297312, 286114.76781015, 286148.41955658,\n",
       "         286185.56512403, 286227.12716328, 286274.46259763, 286329.69203887,\n",
       "         286396.42079133, 286481.59729037, 286601.75026265, 286815.51529805]),\n",
       "  array([-6.19820639e-10, -6.13226803e-10, -5.96628524e-10, -5.73436409e-10,\n",
       "         -5.71162673e-10, -5.59452928e-10, -5.45583134e-10, -5.44787326e-10,\n",
       "         -5.35976596e-10, -5.35692379e-10, -5.31599653e-10, -5.29212230e-10,\n",
       "         -5.24551069e-10, -5.22504706e-10, -5.20572030e-10, -5.04996933e-10,\n",
       "         -4.97038855e-10, -4.91809260e-10, -4.90445018e-10, -4.90331331e-10,\n",
       "         -4.87943908e-10, -4.87034413e-10, -4.83396434e-10, -4.77484718e-10,\n",
       "         -4.76347850e-10, -4.73391992e-10, -4.71345629e-10, -4.69754013e-10,\n",
       "         -4.67935024e-10, -4.64069672e-10, -4.56566340e-10, -4.47471393e-10,\n",
       "         -4.47016646e-10, -4.46902959e-10, -4.38831194e-10, -4.37466952e-10,\n",
       "         -4.36671144e-10, -4.34965841e-10, -4.19049684e-10, -4.15354862e-10,\n",
       "         -4.12455847e-10, -4.10182110e-10, -4.02565092e-10, -4.01485067e-10,\n",
       "         -3.97903932e-10, -3.96312316e-10, -3.95004918e-10, -3.94265953e-10,\n",
       "         -3.93811206e-10, -3.91992216e-10, -3.90400601e-10, -3.89434263e-10,\n",
       "         -3.81987775e-10, -3.63115760e-10, -3.54930307e-10, -3.52429197e-10,\n",
       "         -3.49700713e-10, -3.48336471e-10, -3.41543682e-10, -3.38559403e-10,\n",
       "         -3.33784556e-10, -3.32420313e-10, -3.23780114e-10, -3.23211680e-10,\n",
       "         -3.21961124e-10, -3.19687388e-10, -3.14457793e-10, -3.12127213e-10,\n",
       "         -3.11047188e-10, -3.06954462e-10, -3.06272341e-10, -3.02975423e-10,\n",
       "         -2.99792191e-10, -2.98314262e-10, -2.96722646e-10, -2.94676283e-10,\n",
       "         -2.94448910e-10, -2.92175173e-10, -2.90469870e-10, -2.90128810e-10,\n",
       "         -2.85467650e-10, -2.84671842e-10, -2.84330781e-10, -2.83307600e-10,\n",
       "         -2.82852852e-10, -2.78873813e-10, -2.76031642e-10, -2.75349521e-10,\n",
       "         -2.74724243e-10, -2.73075784e-10, -2.72848411e-10, -2.71086265e-10,\n",
       "         -2.70460987e-10, -2.68869371e-10, -2.62389221e-10, -2.60570232e-10,\n",
       "         -2.59433364e-10, -2.58751243e-10, -2.57443844e-10, -2.55568011e-10,\n",
       "         -2.48974175e-10, -2.48746801e-10, -2.42607712e-10, -2.42380338e-10,\n",
       "         -2.40106601e-10, -2.36923370e-10, -2.34649633e-10, -2.34365416e-10,\n",
       "         -2.31466402e-10, -2.27487362e-10, -2.22826202e-10, -2.21973551e-10,\n",
       "         -2.21461960e-10, -2.20097718e-10, -2.17710294e-10, -2.16459739e-10,\n",
       "         -2.14356533e-10, -2.13958629e-10, -2.11002771e-10, -2.09183781e-10,\n",
       "         -2.08956408e-10, -2.06227924e-10, -2.02817318e-10, -2.02362571e-10,\n",
       "         -1.99861461e-10, -1.99406713e-10, -1.98269845e-10, -1.95086614e-10,\n",
       "         -1.93949745e-10, -1.89515958e-10, -1.88720151e-10, -1.87810656e-10,\n",
       "         -1.84570581e-10, -1.82922122e-10, -1.77578841e-10, -1.75532477e-10,\n",
       "         -1.74964043e-10, -1.73258741e-10, -1.72605041e-10, -1.72576620e-10,\n",
       "         -1.70530257e-10, -1.69166015e-10, -1.67801772e-10, -1.63254299e-10,\n",
       "         -1.63026925e-10, -1.62117431e-10, -1.61548996e-10, -1.58934199e-10,\n",
       "         -1.58934199e-10, -1.58479452e-10, -1.57911018e-10, -1.56887836e-10,\n",
       "         -1.55978341e-10, -1.55750968e-10, -1.55750968e-10, -1.55523594e-10,\n",
       "         -1.54273039e-10, -1.54159352e-10, -1.53704605e-10, -1.50862434e-10,\n",
       "         -1.47565515e-10, -1.47565515e-10, -1.45973900e-10, -1.42335921e-10,\n",
       "         -1.41369583e-10, -1.38271616e-10, -1.38243195e-10, -1.36651579e-10,\n",
       "         -1.34605216e-10, -1.31961997e-10, -1.29830369e-10, -1.29148248e-10,\n",
       "         -1.27784006e-10, -1.25055521e-10, -1.24373400e-10, -1.22668098e-10,\n",
       "         -1.22554411e-10, -1.18461685e-10, -1.16187948e-10, -1.15960574e-10,\n",
       "         -1.15505827e-10, -1.15392140e-10, -1.14596332e-10, -1.14596332e-10,\n",
       "         -1.11867848e-10, -1.11413101e-10, -1.10048859e-10, -1.09366738e-10,\n",
       "         -1.04137143e-10, -1.02318154e-10, -1.01977093e-10, -1.00044417e-10,\n",
       "         -9.81117410e-11, -9.68611857e-11, -9.64064384e-11, -9.45874490e-11,\n",
       "         -9.27684596e-11, -9.18589649e-11, -9.07220965e-11, -8.84483597e-11,\n",
       "         -8.66293703e-11, -8.44693204e-11, -8.37871994e-11, -8.25934876e-11,\n",
       "         -8.19682100e-11, -8.04902811e-11, -7.93534127e-11, -7.50333129e-11,\n",
       "         -7.18500814e-11, -7.16227078e-11, -6.76436684e-11, -6.27551344e-11,\n",
       "         -6.23003871e-11, -6.19593266e-11, -6.13908924e-11, -5.91171556e-11,\n",
       "         -5.75255399e-11, -5.75255399e-11, -5.70707925e-11, -5.43423084e-11,\n",
       "         -5.38875611e-11, -5.18411980e-11, -5.13296072e-11, -5.11590770e-11,\n",
       "         -4.77484718e-11, -4.68389771e-11, -4.59294824e-11, -4.54747351e-11,\n",
       "         -4.45652404e-11, -4.36557457e-11, -4.32009983e-11, -4.04725142e-11,\n",
       "         -3.76303433e-11, -3.12638804e-11, -3.04680725e-11, -3.02406988e-11,\n",
       "         -2.38742359e-11, -2.36468622e-11, -2.09183781e-11, -1.83035809e-11,\n",
       "         -1.67119651e-11, -1.67119651e-11, -1.59161573e-11, -1.52340363e-11,\n",
       "         -1.50066626e-11, -5.45696821e-12, -4.54747351e-12, -3.24007488e-12,\n",
       "         -2.95585778e-12,  2.27373675e-12,  2.44426701e-12,  1.14823706e-11,\n",
       "          1.25055521e-11,  1.27329258e-11,  1.28466127e-11,  1.29602995e-11,\n",
       "          1.50066626e-11,  1.59161573e-11,  1.68256520e-11,  1.95541361e-11,\n",
       "          2.18278728e-11,  2.25099939e-11,  2.29647412e-11,  2.50111043e-11,\n",
       "          2.63753464e-11,  2.78532752e-11,  2.91038305e-11,  2.93312041e-11,\n",
       "          3.18323146e-11,  3.25144356e-11,  3.33102435e-11,  3.47881723e-11,\n",
       "          3.59250407e-11,  3.63797881e-11,  3.66071617e-11,  3.84829946e-11,\n",
       "          3.95630195e-11,  4.02451406e-11,  4.79758455e-11,  4.82032192e-11,\n",
       "          4.82032192e-11,  4.95674612e-11,  5.34328137e-11,  5.47970558e-11,\n",
       "          5.68434189e-11,  5.91171556e-11,  6.00266503e-11,  6.25277607e-11,\n",
       "          6.85531631e-11,  6.86668500e-11,  7.00310920e-11,  7.04858394e-11,\n",
       "          7.08268999e-11,  7.17363946e-11,  7.18500814e-11,  7.49764695e-11,\n",
       "          7.71365194e-11,  8.09450285e-11,  8.20818968e-11,  8.23092705e-11,\n",
       "          8.64019967e-11,  8.73114914e-11,  8.73114914e-11,  8.91304808e-11,\n",
       "          9.00399755e-11,  9.03810360e-11,  9.04947228e-11,  9.09494702e-11,\n",
       "          9.10631570e-11,  9.25410859e-11,  9.50421963e-11,  9.52695700e-11,\n",
       "          9.54969437e-11,  9.54969437e-11,  9.78843673e-11,  9.82254278e-11,\n",
       "          9.91349225e-11,  1.01408659e-10,  1.02090780e-10,  1.02318154e-10,\n",
       "          1.02318154e-10,  1.02318154e-10,  1.05501385e-10,  1.08684617e-10,\n",
       "          1.09707798e-10,  1.13345777e-10,  1.18234311e-10,  1.19143806e-10,\n",
       "          1.21076482e-10,  1.21190169e-10,  1.21758603e-10,  1.23577593e-10,\n",
       "          1.24146027e-10,  1.26419764e-10,  1.27329258e-10,  1.29830369e-10,\n",
       "          1.30569333e-10,  1.31194611e-10,  1.32558853e-10,  1.36083145e-10,\n",
       "          1.36878953e-10,  1.39152689e-10,  1.40516931e-10,  1.41426426e-10,\n",
       "          1.41881173e-10,  1.47565515e-10,  1.49157131e-10,  1.50521373e-10,\n",
       "          1.50976120e-10,  1.52340363e-10,  1.53988822e-10,  1.54159352e-10,\n",
       "          1.57342583e-10,  1.59161573e-10,  1.60980562e-10,  1.62174274e-10,\n",
       "          1.63709046e-10,  1.64391167e-10,  1.67801772e-10,  1.69166015e-10,\n",
       "          1.69848136e-10,  1.71212378e-10,  1.75532477e-10,  1.77465154e-10,\n",
       "          1.78715709e-10,  1.81216819e-10,  1.84286364e-10,  1.87924343e-10,\n",
       "          1.88492777e-10,  1.89061211e-10,  1.89174898e-10,  1.92358129e-10,\n",
       "          1.92699190e-10,  1.93267624e-10,  1.93836058e-10,  1.97360350e-10,\n",
       "          1.97815098e-10,  1.99293027e-10,  1.99634087e-10,  2.00088834e-10,\n",
       "          2.06227924e-10,  2.06568984e-10,  2.06682671e-10,  2.06796358e-10,\n",
       "          2.09638529e-10,  2.15550244e-10,  2.17823981e-10,  2.18619789e-10,\n",
       "          2.19188223e-10,  2.21689334e-10,  2.22371455e-10,  2.23053576e-10,\n",
       "          2.24872565e-10,  2.25213626e-10,  2.29874786e-10,  2.31239028e-10,\n",
       "          2.31466402e-10,  2.32034836e-10,  2.32375896e-10,  2.33285391e-10,\n",
       "          2.34422259e-10,  2.35672815e-10,  2.36468622e-10,  2.36866526e-10,\n",
       "          2.37832865e-10,  2.39879228e-10,  2.44426701e-10,  2.47041498e-10,\n",
       "          2.47041498e-10,  2.51247911e-10,  2.52839527e-10,  2.63071342e-10,\n",
       "          2.68300937e-10,  2.75576895e-10,  2.77850631e-10,  2.78532752e-10,\n",
       "          2.82454948e-10,  2.82511792e-10,  2.88537194e-10,  2.89105628e-10,\n",
       "          2.89219315e-10,  2.89674063e-10,  2.90810931e-10,  2.91265678e-10,\n",
       "          2.97973202e-10,  3.00815373e-10,  3.03316483e-10,  3.07181836e-10,\n",
       "          3.07863957e-10,  3.08773451e-10,  3.11047188e-10,  3.14685167e-10,\n",
       "          3.19346327e-10,  3.20710569e-10,  3.26508598e-10,  3.32420313e-10,\n",
       "          3.34239303e-10,  3.34239303e-10,  3.38559403e-10,  3.39014150e-10,\n",
       "          3.42652129e-10,  3.45153239e-10,  3.46062734e-10,  3.52883944e-10,\n",
       "          3.52883944e-10,  3.53907126e-10,  3.54248186e-10,  3.54702934e-10,\n",
       "          3.55157681e-10,  3.57317731e-10,  3.57317731e-10,  3.63570507e-10,\n",
       "          3.63797881e-10,  3.65048436e-10,  3.65844244e-10,  3.66526365e-10,\n",
       "          3.67947450e-10,  3.76985554e-10,  3.78804543e-10,  3.80168785e-10,\n",
       "          3.83010956e-10,  3.83806764e-10,  3.89263732e-10,  3.90173227e-10,\n",
       "          3.91310095e-10,  3.93413302e-10,  3.94152266e-10,  3.97790245e-10,\n",
       "          4.06316758e-10,  4.21096047e-10,  4.22005542e-10,  4.26211955e-10,\n",
       "          4.27007762e-10,  4.30418368e-10,  4.35647962e-10,  4.43378667e-10,\n",
       "          4.44515535e-10,  4.46448212e-10,  4.49290383e-10,  4.54747351e-10,\n",
       "          4.55202098e-10,  4.58385330e-10,  4.62932803e-10,  4.67025529e-10,\n",
       "          4.69640327e-10,  4.69697170e-10,  4.74074113e-10,  4.91297669e-10,\n",
       "          4.94196684e-10,  4.99539965e-10,  5.05906428e-10,  5.17047738e-10,\n",
       "          5.29553290e-10,  5.32281774e-10,  5.54791768e-10,  5.82758730e-10,\n",
       "          5.84350346e-10,  5.87988325e-10,  6.08906703e-10,  6.42558007e-10])),\n",
       " (3.602684959580607e-13, -1.0252078545522719e-07, 0.9958426452996888))"
      ]
     },
     "execution_count": 10,
     "metadata": {},
     "output_type": "execute_result"
    },
    {
     "data": {
      "image/png": "[encoded data removed]",
      "text/plain": [
       "<Figure size 432x288 with 1 Axes>"
      ]
     },
     "metadata": {
      "needs_background": "light"
     },
     "output_type": "display_data"
    }
   ],
   "source": [
    "np.random.seed(0)\n",
    "n = len(control_n_clicks)\n",
    "stats.probplot(control_boot_n_clicks_sq, dist=\"chi2\", \n",
    "                     sparams=(n-1), plot=plt)"
   ]
  },
  {
   "cell_type": "code",
   "execution_count": 12,
   "metadata": {},
   "outputs": [
    {
     "data": {
      "text/plain": [
       "0.9917025741974818"
      ]
     },
     "execution_count": 12,
     "metadata": {},
     "output_type": "execute_result"
    }
   ],
   "source": [
    "0.9958426452996888**2"
   ]
  },
  {
   "cell_type": "markdown",
   "metadata": {},
   "source": [
    "5. Одним из возможных аналогов t-критерия, которым можно воспрользоваться, является тест Манна-Уитни. На достаточно обширном классе распределений он является асимптотически более эффективным, чем t-критерий, и при этом не требует параметрических предположений о характере распределения.\n",
    "\n",
    "Разделите выборку на две части, соответствующие control и exp группам. Преобразуйте данные к виду, чтобы каждому пользователю соответствовало суммарное значение его кликов. С помощью критерия Манна-Уитни проверьте гипотезу о равенстве средних. Что можно сказать о получившемся значении достигаемого уровня значимости ? Выберите все правильные ответы"
   ]
  },
  {
   "cell_type": "code",
   "execution_count": 51,
   "metadata": {},
   "outputs": [
    {
     "data": {
      "text/plain": [
       "198713    2\n",
       "128307    2\n",
       "249019    2\n",
       "165597    2\n",
       "267320    2\n",
       "324739    2\n",
       "183846    2\n",
       "38315     2\n",
       "257406    2\n",
       "171130    2\n",
       "Name: userID, dtype: int64"
      ]
     },
     "execution_count": 51,
     "metadata": {},
     "output_type": "execute_result"
    }
   ],
   "source": [
    "df_control = df[df[\"slot\"] == \"control\"]\n",
    "df_exp = df[df[\"slot\"] == \"exp\"]"
   ]
  },
  {
   "cell_type": "code",
   "execution_count": 54,
   "metadata": {},
   "outputs": [],
   "source": [
    "df_control = pd.pivot_table(df_control, values='n_clicks', index=['userID'], aggfunc=np.sum)\n",
    "df_exp = pd.pivot_table(df_exp, values='n_clicks', index=['userID'], aggfunc=np.sum)"
   ]
  },
  {
   "cell_type": "code",
   "execution_count": 56,
   "metadata": {},
   "outputs": [
    {
     "data": {
      "text/plain": [
       "MannwhitneyuResult(statistic=38901259929.0, pvalue=4.3471471887604393e-75)"
      ]
     },
     "execution_count": 56,
     "metadata": {},
     "output_type": "execute_result"
    }
   ],
   "source": [
    "stats.mannwhitneyu(df_control, df_exp)"
   ]
  },
  {
   "cell_type": "markdown",
   "metadata": {},
   "source": [
    "6.Вопрос 6\n",
    "Проверьте, для какого из браузеров наиболее сильно выражено отличие между количеством кликов в контрольной и экспериментальной группах.\n",
    "\n",
    "Для этого примените для каждого из срезов (по каждому из уникальных значений столбца browser) критерий Манна-Уитни между control и exp группами и сделайте поправку Холма-Бонферрони на множественную проверку с \\alpha=0.05α=0.05.\n",
    "\n",
    "Какое заключение можно сделать исходя из полученных результатов ?\n",
    "\n",
    "В качестве ответа введите количество незначимых изменений с точки зрения результатов, полученных после введения коррекции."
   ]
  },
  {
   "cell_type": "code",
   "execution_count": 125,
   "metadata": {},
   "outputs": [],
   "source": [
    "browser_n_clicks = [[df[(df[\"browser\"] == br) & (df[\"slot\"] == \"control\")].n_clicks.values,\\\n",
    "                     df[(df[\"browser\"] == br) & (df[\"slot\"] == \"exp\")].n_clicks.values] for br in df.browser.unique()]\n"
   ]
  },
  {
   "cell_type": "code",
   "execution_count": 183,
   "metadata": {},
   "outputs": [],
   "source": [
    "p = list(map(lambda browser: stats.mannwhitneyu(browser[0], browser[1])[1], browser_n_clicks))"
   ]
  },
  {
   "cell_type": "code",
   "execution_count": 184,
   "metadata": {},
   "outputs": [],
   "source": [
    "reject, p_corrected, a1, a2 = multipletests(p, \n",
    "                                            alpha = 0.05, \n",
    "                                            method = 'holm') "
   ]
  },
  {
   "cell_type": "code",
   "execution_count": 185,
   "metadata": {},
   "outputs": [
    {
     "data": {
      "text/plain": [
       "array([0.1362193 , 0.81521235, 0.        , 0.14960241, 0.81521235,\n",
       "       0.77221655])"
      ]
     },
     "execution_count": 185,
     "metadata": {},
     "output_type": "execute_result"
    }
   ],
   "source": [
    "p_corrected"
   ]
  },
  {
   "cell_type": "code",
   "execution_count": 186,
   "metadata": {},
   "outputs": [
    {
     "data": {
      "text/plain": [
       "[0.0272438604197241,\n",
       " 0.40760617658454984,\n",
       " 0.0,\n",
       " 0.03740060143010802,\n",
       " 0.45366656388735377,\n",
       " 0.2574055152210032]"
      ]
     },
     "execution_count": 186,
     "metadata": {},
     "output_type": "execute_result"
    }
   ],
   "source": [
    "p"
   ]
  },
  {
   "cell_type": "code",
   "execution_count": 191,
   "metadata": {},
   "outputs": [
    {
     "data": {
      "text/plain": [
       "array([False, False,  True, False, False, False])"
      ]
     },
     "execution_count": 191,
     "metadata": {},
     "output_type": "execute_result"
    }
   ],
   "source": [
    "reject"
   ]
  },
  {
   "cell_type": "markdown",
   "metadata": {},
   "source": [
    "7.Вопрос 7\n",
    "Для каждого браузера в каждой из двух групп (control и exp) посчитайте долю запросов, в которых пользователь не кликнул ни разу. Это можно сделать, поделив сумму значений n_nonclk_queries на сумму значений n_queries. Умножив это значение на 100, получим процент некликнутых запросов, который можно легче проинтерпретировать.\n",
    "\n",
    "Сходятся ли результаты проведенного Вами анализа с показателем процента некликнутых запросов ? Отметьте все верные утверждения."
   ]
  },
  {
   "cell_type": "code",
   "execution_count": 193,
   "metadata": {},
   "outputs": [],
   "source": [
    "browser_non_clicks = [[np.sum(df[(df[\"browser\"] == br) & (df[\"slot\"] == \"control\")].n_nonclk_queries)/np.sum(df[(df[\"browser\"] == br) & (df[\"slot\"] == \"control\")].n_queries), \\\n",
    "                     np.sum(df[(df[\"browser\"] == br) & (df[\"slot\"] == \"exp\")].n_nonclk_queries)/np.sum(df[(df[\"browser\"] == br) & (df[\"slot\"] == \"exp\")].n_queries)]\\\n",
    "                     for br in df.browser.unique()]\n"
   ]
  },
  {
   "cell_type": "code",
   "execution_count": 194,
   "metadata": {},
   "outputs": [
    {
     "data": {
      "text/plain": [
       "[[0.4596274717919465, 0.449827469485547],\n",
       " [0.4697092963514274, 0.4514294190358467],\n",
       " [0.5759041136008114, 0.4375561736127329],\n",
       " [0.36299366746282086, 0.3693741284866483],\n",
       " [0.4054048474338329, 0.3897737648371716],\n",
       " [0.40593976593513353, 0.3985394721969546]]"
      ]
     },
     "execution_count": 194,
     "metadata": {},
     "output_type": "execute_result"
    }
   ],
   "source": [
    "browser_non_clicks"
   ]
  },
  {
   "cell_type": "code",
   "execution_count": null,
   "metadata": {},
   "outputs": [],
   "source": []
  }
 ],
 "metadata": {
  "kernelspec": {
   "display_name": "Python 3",
   "language": "python",
   "name": "python3"
  },
  "language_info": {
   "codemirror_mode": {
    "name": "ipython",
    "version": 3
   },
   "file_extension": ".py",
   "mimetype": "text/x-python",
   "name": "python",
   "nbconvert_exporter": "python",
   "pygments_lexer": "ipython3",
   "version": "3.7.3"
  }
 },
 "nbformat": 4,
 "nbformat_minor": 2
}
