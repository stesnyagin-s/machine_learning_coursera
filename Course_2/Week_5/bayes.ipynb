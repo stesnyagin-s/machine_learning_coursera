{
 "cells": [
  {
   "cell_type": "code",
   "execution_count": 2,
   "metadata": {},
   "outputs": [],
   "source": [
    "from sklearn.model_selection import cross_val_score\n",
    "from sklearn.naive_bayes import BernoulliNB, MultinomialNB, GaussianNB\n",
    "from sklearn.datasets import load_digits, load_breast_cancer"
   ]
  },
  {
   "cell_type": "code",
   "execution_count": 20,
   "metadata": {},
   "outputs": [
    {
     "data": {
      "text/plain": [
       "array([[1.799e+01, 1.038e+01, 1.228e+02, ..., 2.654e-01, 4.601e-01,\n",
       "        1.189e-01],\n",
       "       [2.057e+01, 1.777e+01, 1.329e+02, ..., 1.860e-01, 2.750e-01,\n",
       "        8.902e-02],\n",
       "       [1.969e+01, 2.125e+01, 1.300e+02, ..., 2.430e-01, 3.613e-01,\n",
       "        8.758e-02],\n",
       "       ...,\n",
       "       [1.660e+01, 2.808e+01, 1.083e+02, ..., 1.418e-01, 2.218e-01,\n",
       "        7.820e-02],\n",
       "       [2.060e+01, 2.933e+01, 1.401e+02, ..., 2.650e-01, 4.087e-01,\n",
       "        1.240e-01],\n",
       "       [7.760e+00, 2.454e+01, 4.792e+01, ..., 0.000e+00, 2.871e-01,\n",
       "        7.039e-02]])"
      ]
     },
     "execution_count": 20,
     "metadata": {},
     "output_type": "execute_result"
    }
   ],
   "source": [
    "load_breast_cancer().data"
   ]
  },
  {
   "cell_type": "code",
   "execution_count": 18,
   "metadata": {},
   "outputs": [
    {
     "name": "stdout",
     "output_type": "stream",
     "text": [
      "Bernoulli: 0.831855746495016\n",
      "Multinomial: 0.8819396216300838\n",
      "Gaussian: 0.8103537583567821\n"
     ]
    }
   ],
   "source": [
    "print(\"Bernoulli: \" + str(cross_val_score(BernoulliNB(),load_digits().data, load_digits().target, cv=10).mean()))\n",
    "print(\"Multinomial: \" + str(cross_val_score(MultinomialNB(),load_digits().data, load_digits().target, cv=10).mean()))\n",
    "print(\"Gaussian: \" + str(cross_val_score(GaussianNB(),load_digits().data, load_digits().target, cv=10).mean()))"
   ]
  },
  {
   "cell_type": "code",
   "execution_count": 19,
   "metadata": {},
   "outputs": [
    {
     "name": "stdout",
     "output_type": "stream",
     "text": [
      "Bernoulli: 0.6274274047186933\n",
      "Multinomial: 0.8929349235156856\n",
      "Gaussian: 0.9386796733212339\n"
     ]
    }
   ],
   "source": [
    "print(\"Bernoulli: \" + str(cross_val_score(BernoulliNB(),load_breast_cancer().data, load_breast_cancer().target, cv=10).mean()))\n",
    "print(\"Multinomial: \" + str(cross_val_score(MultinomialNB(),load_breast_cancer().data, load_breast_cancer().target, cv=10).mean()))\n",
    "print(\"Gaussian: \" + str(cross_val_score(GaussianNB(),load_breast_cancer().data, load_breast_cancer().target, cv=10).mean()))"
   ]
  },
  {
   "cell_type": "code",
   "execution_count": 22,
   "metadata": {},
   "outputs": [],
   "source": [
    "with open(\"2_1.txt\", \"w\") as f:\n",
    "    f.write(str(0.9386796733212339))"
   ]
  },
  {
   "cell_type": "code",
   "execution_count": 23,
   "metadata": {},
   "outputs": [],
   "source": [
    "with open(\"2_2.txt\", \"w\") as f:\n",
    "    f.write(str(0.8819396216300838))"
   ]
  },
  {
   "cell_type": "code",
   "execution_count": 24,
   "metadata": {},
   "outputs": [],
   "source": [
    "with open(\"2_3.txt\", \"w\") as f:\n",
    "    f.write(\"3 4\")"
   ]
  },
  {
   "cell_type": "code",
   "execution_count": null,
   "metadata": {},
   "outputs": [],
   "source": []
  }
 ],
 "metadata": {
  "kernelspec": {
   "display_name": "Python 3",
   "language": "python",
   "name": "python3"
  },
  "language_info": {
   "codemirror_mode": {
    "name": "ipython",
    "version": 3
   },
   "file_extension": ".py",
   "mimetype": "text/x-python",
   "name": "python",
   "nbconvert_exporter": "python",
   "pygments_lexer": "ipython3",
   "version": "3.7.3"
  }
 },
 "nbformat": 4,
 "nbformat_minor": 2
}
