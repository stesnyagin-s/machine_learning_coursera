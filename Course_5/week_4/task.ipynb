{
 "cells": [
  {
   "cell_type": "code",
   "execution_count": 230,
   "metadata": {},
   "outputs": [],
   "source": [
    "import numpy as np"
   ]
  },
  {
   "cell_type": "code",
   "execution_count": 326,
   "metadata": {},
   "outputs": [],
   "source": [
    "train_views = []\n",
    "train_purch = []\n",
    "with open(\"coursera_sessions_train.txt\") as f:\n",
    "    text = f.readlines()\n",
    "    for line in text:\n",
    "        views = line.split(\";\")[0].split(',')\n",
    "        train_views.append(views)\n",
    "        purch = line.split(\";\")[1].split('\\n')[0].split(',')\n",
    "        if ((len(purch) == 1) and (purch[0] == '')):\n",
    "            purch = []\n",
    "        train_purch.append(purch)"
   ]
  },
  {
   "cell_type": "code",
   "execution_count": 335,
   "metadata": {},
   "outputs": [],
   "source": [
    "popularity = {}\n",
    "for user in train_views:\n",
    "    for product in user:\n",
    "        popularity[product] = popularity.get(product, 0) + 1\n",
    "purchasability = {}\n",
    "for user in train_purch:\n",
    "    for product in user:\n",
    "        purchasability[product] = purchasability.get(product, 0) + 1"
   ]
  },
  {
   "cell_type": "code",
   "execution_count": 328,
   "metadata": {},
   "outputs": [],
   "source": [
    "y_pop = []\n",
    "for user in train_views:\n",
    "    user_orig = user.copy()\n",
    "    user = list(set(user))\n",
    "    if len(user) == 0:\n",
    "        continue\n",
    "    user.sort(key = lambda product: (popularity.get(product, 0), -user_orig.index(product)), reverse = True)\n",
    "    y_pop.append(user[:5])\n"
   ]
  },
  {
   "cell_type": "code",
   "execution_count": 329,
   "metadata": {},
   "outputs": [],
   "source": [
    "def avg_precision(k, pred, true):\n",
    "    sum1 = 0\n",
    "    n = 0\n",
    "    for i in range(len(pred)):\n",
    "        if(len(true[i]) == 0):\n",
    "            continue\n",
    "        n = n + 1\n",
    "        n_rec = min(k,len(pred[i]))\n",
    "        for j in range(n_rec):\n",
    "            if(true[i].count(pred[i][j]) != 0):\n",
    "                sum1 = sum1 + 1/k\n",
    "    return sum1/n"
   ]
  },
  {
   "cell_type": "code",
   "execution_count": 330,
   "metadata": {},
   "outputs": [],
   "source": [
    "def avg_recall(k, pred, true):\n",
    "    sum1 = 0\n",
    "    n = 0\n",
    "    for i in range(len(pred)):\n",
    "        if(len(true[i]) == 0):\n",
    "            continue\n",
    "        n = n + 1\n",
    "        n_rec = min(k,len(pred[i]))\n",
    "        for j in range(n_rec):\n",
    "            if(true[i].count(pred[i][j]) != 0):\n",
    "                sum1 = sum1 + 1/len(true[i])\n",
    "    return sum1/n\n"
   ]
  },
  {
   "cell_type": "code",
   "execution_count": 331,
   "metadata": {
    "scrolled": true
   },
   "outputs": [
    {
     "name": "stdout",
     "output_type": "stream",
     "text": [
      "0.4426343165949593 0.5121951219512195 0.8246918247126136 0.21252771618626312\n"
     ]
    }
   ],
   "source": [
    "print(avg_recall(1, y_pop, train_purch),avg_precision(1, y_pop, train_purch), avg_recall(5, y_pop, train_purch), avg_precision(5, y_pop, train_purch))"
   ]
  },
  {
   "cell_type": "code",
   "execution_count": 332,
   "metadata": {},
   "outputs": [],
   "source": [
    "test_views = []\n",
    "test_purch = []\n",
    "with open(\"coursera_sessions_test.txt\") as f:\n",
    "    text = f.readlines()\n",
    "    for line in text:\n",
    "        views = line.split(\";\")[0].split(',')\n",
    "        test_views.append(views)\n",
    "        purch = line.split(\";\")[1].split('\\n')[0].split(',')\n",
    "        if ((len(purch) == 1) and (purch[0] == '')):\n",
    "            purch = []\n",
    "        test_purch.append(purch)"
   ]
  },
  {
   "cell_type": "code",
   "execution_count": 333,
   "metadata": {},
   "outputs": [],
   "source": [
    "y_pop_test = []\n",
    "for user in test_views:\n",
    "    user_orig = user.copy()\n",
    "    user = list(set(user))\n",
    "    if len(user) == 0:\n",
    "        continue\n",
    "    user.sort(key = lambda product: (popularity.get(product, 0), -user_orig.index(product)), reverse = True)\n",
    "    y_pop_test.append(user[:5])"
   ]
  },
  {
   "cell_type": "code",
   "execution_count": 334,
   "metadata": {},
   "outputs": [
    {
     "name": "stdout",
     "output_type": "stream",
     "text": [
      "0.41733266203252534 0.48130968622100956 0.8000340663538598 0.2037653478854114\n"
     ]
    }
   ],
   "source": [
    "print(avg_recall(1, y_pop_test, test_purch),avg_precision(1, y_pop_test, test_purch), avg_recall(5, y_pop_test, test_purch), avg_precision(5, y_pop_test, test_purch))"
   ]
  },
  {
   "cell_type": "code",
   "execution_count": 338,
   "metadata": {},
   "outputs": [],
   "source": [
    "y_train = []\n",
    "for user in train_views:\n",
    "    user_orig = user.copy()\n",
    "    user = list(set(user))\n",
    "    if len(user) == 0:\n",
    "        continue\n",
    "    user.sort(key = lambda product: (purchasability.get(product, 0), -user_orig.index(product)), reverse = True)\n",
    "    y_train.append(user[:5])"
   ]
  },
  {
   "cell_type": "code",
   "execution_count": 339,
   "metadata": {},
   "outputs": [
    {
     "name": "stdout",
     "output_type": "stream",
     "text": [
      "0.6884494924267653 0.8037694013303769 0.9263073024228823 0.25254988913527443\n"
     ]
    }
   ],
   "source": [
    "print(avg_recall(1, y_train, train_purch),avg_precision(1, y_train, train_purch), avg_recall(5, y_train, train_purch), avg_precision(5, y_train, train_purch))"
   ]
  },
  {
   "cell_type": "code",
   "execution_count": 340,
   "metadata": {},
   "outputs": [],
   "source": [
    "y_test = []\n",
    "for user in test_views:\n",
    "    user_orig = user.copy()\n",
    "    user = list(set(user))\n",
    "    if len(user) == 0:\n",
    "        continue\n",
    "    user.sort(key = lambda product: (purchasability.get(product, 0), -user_orig.index(product)), reverse = True)\n",
    "    y_test.append(user[:5])"
   ]
  },
  {
   "cell_type": "code",
   "execution_count": 341,
   "metadata": {},
   "outputs": [
    {
     "name": "stdout",
     "output_type": "stream",
     "text": [
      "0.4606201666660294 0.5276944065484311 0.820187433749021 0.21009549795362567\n"
     ]
    }
   ],
   "source": [
    "print(avg_recall(1, y_test, test_purch),avg_precision(1, y_test, test_purch), avg_recall(5, y_test, test_purch), avg_precision(5, y_test, test_purch))"
   ]
  },
  {
   "cell_type": "code",
   "execution_count": null,
   "metadata": {},
   "outputs": [],
   "source": []
  }
 ],
 "metadata": {
  "kernelspec": {
   "display_name": "Python 3",
   "language": "python",
   "name": "python3"
  },
  "language_info": {
   "codemirror_mode": {
    "name": "ipython",
    "version": 3
   },
   "file_extension": ".py",
   "mimetype": "text/x-python",
   "name": "python",
   "nbconvert_exporter": "python",
   "pygments_lexer": "ipython3",
   "version": "3.7.3"
  }
 },
 "nbformat": 4,
 "nbformat_minor": 2
}
